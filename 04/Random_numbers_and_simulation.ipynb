{
 "cells": [
  {
   "cell_type": "markdown",
   "metadata": {},
   "source": [
    "# Random numbers and simulation"
   ]
  },
  {
   "cell_type": "markdown",
   "metadata": {},
   "source": [
    "You will learn how to use a random number generator with a seed and produce simulation results (**numpy.random**, **scipy.stats**), and calcuate the expected value of a random variable through Monte Carlo integration. You will learn how to save your results for later use (**pickle**). Finally, you will learn how to make your figures interactive (**ipywidgets**)."
   ]
  },
  {
   "cell_type": "markdown",
   "metadata": {},
   "source": [
    "**Links:**\n",
    "\n",
    "* [numpy.random](https://docs.scipy.org/doc/numpy-1.13.0/reference/routines.random.html)\n",
    "* [scipy.stats](https://docs.scipy.org/doc/scipy/reference/stats.html)\n",
    "* [ipywidgets](https://ipywidgets.readthedocs.io/en/stable/examples/Widget%20List.html)\n",
    "* datacamp on [pickle](https://www.datacamp.com/community/tutorials/pickle-python-tutorial)"
   ]
  },
  {
   "cell_type": "markdown",
   "metadata": {},
   "source": [
    "**Imports:** We now import all the modules, we need for this notebook. Importing everything in the beginning makes it more clear what modules the notebook relies on."
   ]
  },
  {
   "cell_type": "code",
   "execution_count": 1,
   "metadata": {},
   "outputs": [],
   "source": [
    "import math\n",
    "import pickle\n",
    "import numpy as np\n",
    "\n",
    "from scipy.stats import norm # normal distribution\n",
    "\n",
    "%matplotlib inline\n",
    "import matplotlib.pyplot as plt\n",
    "plt.style.use('seaborn-whitegrid')\n",
    "import ipywidgets as widgets"
   ]
  },
  {
   "cell_type": "markdown",
   "metadata": {},
   "source": [
    "# Exchange economy with many consumers"
   ]
  },
  {
   "cell_type": "markdown",
   "metadata": {},
   "source": [
    "Consider an **exchange economy** with"
   ]
  },
  {
   "cell_type": "markdown",
   "metadata": {},
   "source": [
    "1. 2 goods, $(x_1,x_2)$\n",
    "2. $N$ consumers indexed by $j \\in \\{1,2,\\dots,N\\}$\n",
    "3. Preferences are Cobb-Douglas with uniformly *heterogenous* coefficients\n",
    "\n",
    "#notice the j on the alpha = everyone has their own \n",
    "\n",
    "$$\n",
    "\\begin{aligned}\n",
    "u^{j}(x_{1},x_{2}) & = x_{1}^{\\alpha_{j}}x_{2}^{1-\\alpha_{j}}\\\\\n",
    " & \\,\\,\\,\\alpha_{j}\\sim\\mathcal{U}(\\underline{\\mu},\\overline{\\mu})\\\\\n",
    " & \\,\\,\\,0<\\underline{\\mu}<\\overline{\\mu}<1\n",
    "\\end{aligned}\n",
    "$$\n",
    "\n",
    "4. Endowments are *homogenous* and given by\n",
    "\n",
    "$$\n",
    "\\boldsymbol{e}^{j}=(e_{1}^{j},e_{2}^{j})=(k,1),\\,k>0\n",
    "$$"
   ]
  },
  {
   "cell_type": "markdown",
   "metadata": {},
   "source": [
    "The implied **demand functions** are:\n",
    "\n",
    "$$\n",
    "\\begin{aligned}\n",
    "x_{1}^{\\star j}(p_{1},p_{2},e^{j})&=&\\alpha_{j}\\frac{I}{p_{1}}=\\alpha_{j}\\frac{kp_{1}+p_{2}}{p_{1}} \\\\\n",
    "x_{2}^{\\star j}(p_{1},p_{2},e^{j})&=&(1-\\alpha_{j})\\frac{I}{p_{2}}=(1-\\alpha_{j})\\frac{kp_{1}+p_{2}}{p_{2}}\n",
    "\\end{aligned}\n",
    "$$"
   ]
  },
  {
   "cell_type": "markdown",
   "metadata": {},
   "source": [
    "The **equilibrium** for a random draw of $\\alpha = \\{\\alpha_1,\\alpha_2,\\dots,\\alpha_N\\}$ is a set of prices $p_1$ and $p_2$ satifying:\n",
    "\n",
    "$$\n",
    "\\begin{aligned}\n",
    "x_1(p_1,p_2) = \\sum_{j=1}^N x_{1}^{\\star j}(p_{1},p_{2},e^{j}) &= \\sum_{j=1}^N e_1^j = Nk \\\\\n",
    "x_2(p_1,p_2) = \\sum_{j=1}^N x_{2}^{\\star j}(p_{1},p_{2},e^{j}) &= \\sum_{j=1}^N e_2^j = N\n",
    "\\end{aligned}\n",
    "$$"
   ]
  },
  {
   "cell_type": "markdown",
   "metadata": {},
   "source": [
    "**Problem:** Solve for this equilibrium. But how do we handle the randomness? We need a random number generator (RNG)."
   ]
  },
  {
   "cell_type": "markdown",
   "metadata": {},
   "source": [
    "**Warm-up**: Choose parameters and define demand functions."
   ]
  },
  {
   "cell_type": "code",
   "execution_count": 17,
   "metadata": {},
   "outputs": [],
   "source": [
    "# a. parameters\n",
    "N = 1000\n",
    "k = 2 # endowment\n",
    "mu_low = 0.1 # lower bound on alpha\n",
    "mu_high = 0.9 # upper bound on alpha\n",
    "\n",
    "# b. demand functions\n",
    "def demand_good_1_func(alpha,p1,p2,k):\n",
    "    I = k*p1+p2\n",
    "    return alpha*I/p1\n",
    "\n",
    "def demand_good_2_func(alpha,p1,p2,k):\n",
    "    I = k*p1+p2\n",
    "    return (1-alpha)*I/p2\n",
    "\n",
    "#quiz: these function (hvor man ganger skala med dimension) will only work under the right circumstances\n",
    "#only if the alphas are numpy arrays "
   ]
  },
  {
   "cell_type": "markdown",
   "metadata": {},
   "source": [
    "# Random numbers"
   ]
  },
  {
   "cell_type": "markdown",
   "metadata": {},
   "source": [
    "The two main approaches to generating random numbers are:\n",
    "\n",
    "1. **Physical observations** of random processes (radioactive decay,  atmospheric noise, roulette wheels, etc.)\n",
    "2. **Algorithms** creating pseudo-random numbers"
   ]
  },
  {
   "cell_type": "markdown",
   "metadata": {},
   "source": [
    "**Pseudo-random numbers** satisfy propoerties such that they are as good as random. It should be impossible (for all practical purposes) to calculate, or otherwise guess, from any given subsequence, any previous or future values in the sequence."
   ]
  },
  {
   "cell_type": "markdown",
   "metadata": {},
   "source": [
    "**More information:** See this [video](https://www.youtube.com/watch?v=C82JyCmtKWg&app=desktop#fauxfullscreen) by Infinite Series."
   ]
  },
  {
   "cell_type": "markdown",
   "metadata": {},
   "source": [
    "## Simple example: Middle-square method"
   ]
  },
  {
   "cell_type": "markdown",
   "metadata": {},
   "source": [
    "Proposed by **John von Neumann**:"
   ]
  },
  {
   "cell_type": "markdown",
   "metadata": {},
   "source": [
    "1. Start with a $N$ digit number\n",
    "2. Square the number\n",
    "3. Pad the number with leading zeros making it a $2N$ digit number\n",
    "4. Extract the middle $N$ digits (*your random number*)\n",
    "5. Return to step 1 to generate one more"
   ]
  },
  {
   "cell_type": "markdown",
   "metadata": {},
   "source": [
    "> **Pro:** Simple and easy to implement. Conceptually somewhat similar to more advanced methods (e.g. *Mersenne-Twister* used by *numpy*).\n",
    ">\n",
    "> **Con:** Cycles can be no longer than $8^N$ periods. Many repeating cycles are very short. Internal state is directly observable.\n",
    ">\n",
    "> **Conclusion:** Can not be used in practice."
   ]
  },
  {
   "cell_type": "markdown",
   "metadata": {},
   "source": [
    "**Code:** An implementation in Python for $N = 4$ digit random integers:"
   ]
  },
  {
   "cell_type": "code",
   "execution_count": 18,
   "metadata": {},
   "outputs": [],
   "source": [
    "def rng(number,max_iter=100): \n",
    "    \n",
    "    already_seen = [] # list of seen numbers\n",
    "    \n",
    "    i = 0\n",
    "    while number not in already_seen and i < max_iter:\n",
    "        \n",
    "        already_seen.append(number)\n",
    "        squared = number**2\n",
    "        padded = str(squared).zfill(8) # add leading zeros\n",
    "        number = int(padded[2:6]) # extract middle 4 numbers\n",
    "        \n",
    "        print(f\"square = {squared:8d}, padded = {padded} -> {number:4d}\")\n",
    "        i += 1"
   ]
  },
  {
   "cell_type": "markdown",
   "metadata": {},
   "source": [
    "A reasonable cycle:"
   ]
  },
  {
   "cell_type": "code",
   "execution_count": 4,
   "metadata": {},
   "outputs": [
    {
     "name": "stdout",
     "output_type": "stream",
     "text": [
      "square = 21650409, padded = 21650409 -> 6504\n",
      "square = 42302016, padded = 42302016 -> 3020\n",
      "square =  9120400, padded = 09120400 -> 1204\n",
      "square =  1449616, padded = 01449616 -> 4496\n",
      "square = 20214016, padded = 20214016 -> 2140\n",
      "square =  4579600, padded = 04579600 -> 5796\n",
      "square = 33593616, padded = 33593616 -> 5936\n",
      "square = 35236096, padded = 35236096 -> 2360\n",
      "square =  5569600, padded = 05569600 -> 5696\n",
      "square = 32444416, padded = 32444416 -> 4444\n",
      "square = 19749136, padded = 19749136 -> 7491\n",
      "square = 56115081, padded = 56115081 -> 1150\n",
      "square =  1322500, padded = 01322500 -> 3225\n",
      "square = 10400625, padded = 10400625 -> 4006\n",
      "square = 16048036, padded = 16048036 ->  480\n",
      "square =   230400, padded = 00230400 -> 2304\n",
      "square =  5308416, padded = 05308416 -> 3084\n",
      "square =  9511056, padded = 09511056 -> 5110\n",
      "square = 26112100, padded = 26112100 -> 1121\n",
      "square =  1256641, padded = 01256641 -> 2566\n",
      "square =  6584356, padded = 06584356 -> 5843\n",
      "square = 34140649, padded = 34140649 -> 1406\n",
      "square =  1976836, padded = 01976836 -> 9768\n",
      "square = 95413824, padded = 95413824 -> 4138\n",
      "square = 17123044, padded = 17123044 -> 1230\n",
      "square =  1512900, padded = 01512900 -> 5129\n",
      "square = 26306641, padded = 26306641 -> 3066\n",
      "square =  9400356, padded = 09400356 -> 4003\n",
      "square = 16024009, padded = 16024009 ->  240\n",
      "square =    57600, padded = 00057600 ->  576\n",
      "square =   331776, padded = 00331776 -> 3317\n",
      "square = 11002489, padded = 11002489 ->   24\n",
      "square =      576, padded = 00000576 ->    5\n",
      "square =       25, padded = 00000025 ->    0\n",
      "square =        0, padded = 00000000 ->    0\n"
     ]
    }
   ],
   "source": [
    "rng(4653)"
   ]
  },
  {
   "cell_type": "markdown",
   "metadata": {},
   "source": [
    "A short cycle:"
   ]
  },
  {
   "cell_type": "code",
   "execution_count": 5,
   "metadata": {},
   "outputs": [
    {
     "name": "stdout",
     "output_type": "stream",
     "text": [
      "square =   291600, padded = 00291600 -> 2916\n",
      "square =  8503056, padded = 08503056 -> 5030\n",
      "square = 25300900, padded = 25300900 -> 3009\n",
      "square =  9054081, padded = 09054081 ->  540\n"
     ]
    }
   ],
   "source": [
    "rng(540)"
   ]
  },
  {
   "cell_type": "markdown",
   "metadata": {},
   "source": [
    "No cycle at all:"
   ]
  },
  {
   "cell_type": "code",
   "execution_count": 6,
   "metadata": {},
   "outputs": [
    {
     "name": "stdout",
     "output_type": "stream",
     "text": [
      "square = 14379264, padded = 14379264 -> 3792\n"
     ]
    }
   ],
   "source": [
    "rng(3792)"
   ]
  },
  {
   "cell_type": "markdown",
   "metadata": {},
   "source": [
    "## Numpy"
   ]
  },
  {
   "cell_type": "markdown",
   "metadata": {},
   "source": [
    "Numpy provides various functions for drawing random numbers. We can, for example, draw random integers between 0 and 10000:"
   ]
  },
  {
   "cell_type": "code",
   "execution_count": 3,
   "metadata": {},
   "outputs": [
    {
     "name": "stdout",
     "output_type": "stream",
     "text": [
      "[6633 1736 4476  771 1303]\n"
     ]
    }
   ],
   "source": [
    "X = np.random.randint(0,10000,size=5)\n",
    "print(X)"
   ]
  },
  {
   "cell_type": "markdown",
   "metadata": {},
   "source": [
    "**Problem:** How can we reproduce our results the next time we open Python?\n",
    "\n",
    "**Solution:** Use a seed! Choose the seed, and reset the random number generator:"
   ]
  },
  {
   "cell_type": "code",
   "execution_count": 5,
   "metadata": {},
   "outputs": [
    {
     "name": "stdout",
     "output_type": "stream",
     "text": [
      "set seed to 2000 and create numbers:\n",
      "[0.57051729 0.56452876 0.48844183 0.33647775 0.37586818]\n",
      "[0.53203587 0.06810629 0.58452906 0.23789776 0.16075658]\n",
      "\n",
      "reset algorithm by stating the same seed again:\n",
      "[0.57051729 0.56452876 0.48844183 0.33647775 0.37586818]\n",
      "[0.53203587 0.06810629 0.58452906 0.23789776 0.16075658]\n"
     ]
    }
   ],
   "source": [
    "print('set seed to 2000 and create numbers:')\n",
    "np.random.seed(2000)\n",
    "print(np.random.uniform(size=5))\n",
    "print(np.random.uniform(size=5))\n",
    "\n",
    "print('\\nreset algorithm by stating the same seed again:')\n",
    "np.random.seed(2000)\n",
    "print(np.random.uniform(size=5))\n",
    "print(np.random.uniform(size=5))"
   ]
  },
  {
   "cell_type": "markdown",
   "metadata": {},
   "source": [
    "> **Note:** The first and third draws above are exactly the same."
   ]
  },
  {
   "cell_type": "markdown",
   "metadata": {},
   "source": [
    "We can also **save and load the state** of the random number generator."
   ]
  },
  {
   "cell_type": "code",
   "execution_count": 9,
   "metadata": {},
   "outputs": [
    {
     "name": "stdout",
     "output_type": "stream",
     "text": [
      "[0.53203587 0.06810629 0.58452906 0.23789776 0.16075658]\n",
      "[0.15211915 0.12706922 0.32744117 0.69415387 0.35896647]\n",
      "[0.53203587 0.06810629 0.58452906 0.23789776 0.16075658]\n",
      "[0.15211915 0.12706922 0.32744117 0.69415387 0.35896647]\n"
     ]
    }
   ],
   "source": [
    "# a. save state\n",
    "state = np.random.get_state()\n",
    "\n",
    "# b. draw some random number\n",
    "print(np.random.uniform(size=5))\n",
    "print(np.random.uniform(size=5))\n",
    "\n",
    "# c. reset state \n",
    "np.random.set_state(state)\n",
    "\n",
    "# d. draw the same random numbers again\n",
    "print(np.random.uniform(size=5))\n",
    "print(np.random.uniform(size=5))"
   ]
  },
  {
   "cell_type": "markdown",
   "metadata": {},
   "source": [
    "> **Note**: You should *only set the seed once* per program. Changing seed might brake randomness."
   ]
  },
  {
   "cell_type": "markdown",
   "metadata": {},
   "source": [
    "## Different distributions"
   ]
  },
  {
   "cell_type": "markdown",
   "metadata": {},
   "source": [
    "Draw random numbers from various distributions:"
   ]
  },
  {
   "cell_type": "code",
   "execution_count": 6,
   "metadata": {},
   "outputs": [],
   "source": [
    "X = np.random.normal(loc=0,scale=1,size=10**6)\n",
    "Y = np.random.beta(a=5,b=2,size=10**6)\n",
    "Z = np.random.uniform(low=-2,high=2,size=10**6)\n",
    "\n",
    "#create your own destribution by using np.random.choice \n",
    "vec = np.array([-2.5,-2.0,-1.5,-1.0,-0.5,0,0.5,1.0,1.5,2,2.5])\n",
    "prob = (np.linspace(-1,1,vec.size)+0.1)**2 # all positive numbers\n",
    "prob /= np.sum(prob) # make them sum to one\n",
    "K = np.random.choice(vec,size=10**6,p=prob)\n"
   ]
  },
  {
   "cell_type": "markdown",
   "metadata": {},
   "source": [
    "Plot the various distributions:"
   ]
  },
  {
   "cell_type": "code",
   "execution_count": 7,
   "metadata": {},
   "outputs": [
    {
     "data": {
      "image/png": "[encoded data removed]",
      "text/plain": [
       "<Figure size 600x400 with 1 Axes>"
      ]
     },
     "metadata": {},
     "output_type": "display_data"
    }
   ],
   "source": [
    "fig = plt.figure(dpi=100)\n",
    "ax = fig.add_subplot(1,1,1)\n",
    "ax.hist(X,bins=100,density=True,alpha=0.5,label='normal') # alpha < 1 = transparent\n",
    "ax.hist(Y,bins=100,density=True,alpha=0.5,label='beta')\n",
    "ax.hist(Z,bins=100,density=True,alpha=0.5,label='uniform')\n",
    "ax.hist(K,bins=100,density=True,alpha=0.5,label='choice')\n",
    "ax.set_xlim([-3,3])\n",
    "ax.legend(loc='upper left'); # note: the ; stops output from being printed"
   ]
  },
  {
   "cell_type": "markdown",
   "metadata": {},
   "source": [
    "**Task:** Follow this [link](https://docs.scipy.org/doc/numpy-1.13.0/reference/routines.random.html). Choose a distribution and add it to the figure above."
   ]
  },
  {
   "cell_type": "markdown",
   "metadata": {},
   "source": [
    "## Analytical results"
   ]
  },
  {
   "cell_type": "markdown",
   "metadata": {},
   "source": [
    "How close are our draws to a normal distribution?"
   ]
  },
  {
   "cell_type": "code",
   "execution_count": 12,
   "metadata": {},
   "outputs": [
    {
     "data": {
      "image/png": "[encoded data removed]",
      "text/plain": [
       "<Figure size 600x400 with 1 Axes>"
      ]
     },
     "metadata": {},
     "output_type": "display_data"
    }
   ],
   "source": [
    "from scipy.stats import norm\n",
    "\n",
    "# a. create analytical distribution\n",
    "loc_guess = 0.25\n",
    "scale_guess = 0.75\n",
    "# loc_guess, scale_guess = norm.fit(X)\n",
    "F = norm(loc=loc_guess,scale=scale_guess)\n",
    "\n",
    "\n",
    "# b. vector of x values\n",
    "x_low = F.ppf(0.001) # x value where cdf is 0.001\n",
    "x_high = F.ppf(0.999) # x value where cdf is 0.999\n",
    "x = np.linspace(x_low,x_high,100)\n",
    "\n",
    "# c. compare\n",
    "fig = plt.figure(dpi=100)\n",
    "ax = fig.add_subplot(1,1,1)\n",
    "ax.plot(x,F.pdf(x),lw=2,label='estimated')\n",
    "ax.hist(X,bins=100,density=True,histtype='stepfilled');"
   ]
  },
  {
   "cell_type": "markdown",
   "metadata": {},
   "source": [
    "**Task:** Make the pdf fit the historgram."
   ]
  },
  {
   "cell_type": "markdown",
   "metadata": {},
   "source": [
    "## Permutations"
   ]
  },
  {
   "cell_type": "code",
   "execution_count": 12,
   "metadata": {},
   "outputs": [
    {
     "ename": "NameError",
     "evalue": "name 'self' is not defined",
     "output_type": "error",
     "traceback": [
      "\u001b[0;31m---------------------------------------------------------------------------\u001b[0m",
      "\u001b[0;31mNameError\u001b[0m                                 Traceback (most recent call last)",
      "\u001b[0;32m<ipython-input-12-a8174d723660>\u001b[0m in \u001b[0;36m<module>\u001b[0;34m\u001b[0m\n\u001b[0;32m----> 1\u001b[0;31m \u001b[0;32mclass\u001b[0m \u001b[0mdice_cup\u001b[0m\u001b[0;34m:\u001b[0m\u001b[0;34m\u001b[0m\u001b[0;34m\u001b[0m\u001b[0m\n\u001b[0m\u001b[1;32m      2\u001b[0m \u001b[0;34m\u001b[0m\u001b[0m\n\u001b[1;32m      3\u001b[0m     \u001b[0;32mdef\u001b[0m \u001b[0m__init__\u001b[0m\u001b[0;34m(\u001b[0m\u001b[0mself\u001b[0m\u001b[0;34m,\u001b[0m\u001b[0mndice\u001b[0m\u001b[0;34m)\u001b[0m\u001b[0;34m:\u001b[0m\u001b[0;34m\u001b[0m\u001b[0;34m\u001b[0m\u001b[0m\n\u001b[1;32m      4\u001b[0m         \u001b[0mself\u001b[0m\u001b[0;34m.\u001b[0m\u001b[0mndice\u001b[0m \u001b[0;34m=\u001b[0m \u001b[0mndice\u001b[0m\u001b[0;34m\u001b[0m\u001b[0;34m\u001b[0m\u001b[0m\n\u001b[1;32m      5\u001b[0m \u001b[0;34m\u001b[0m\u001b[0m\n",
      "\u001b[0;32m<ipython-input-12-a8174d723660>\u001b[0m in \u001b[0;36mdice_cup\u001b[0;34m()\u001b[0m\n\u001b[1;32m     15\u001b[0m         \u001b[0mself\u001b[0m\u001b[0;34m.\u001b[0m\u001b[0mroll\u001b[0m\u001b[0;34m(\u001b[0m\u001b[0;34m)\u001b[0m\u001b[0;34m\u001b[0m\u001b[0;34m\u001b[0m\u001b[0m\n\u001b[1;32m     16\u001b[0m         \u001b[0mself\u001b[0m\u001b[0;34m.\u001b[0m\u001b[0mdice\u001b[0m\u001b[0;34m.\u001b[0m\u001b[0msum\u001b[0m\u001b[0;34m(\u001b[0m\u001b[0;34m)\u001b[0m \u001b[0;31m# this can be done since self.dice is a np.array, an they have the .sum function in them\u001b[0m\u001b[0;34m\u001b[0m\u001b[0;34m\u001b[0m\u001b[0m\n\u001b[0;32m---> 17\u001b[0;31m     \u001b[0mprint\u001b[0m\u001b[0;34m(\u001b[0m\u001b[0mself\u001b[0m\u001b[0;34m.\u001b[0m\u001b[0mdice\u001b[0m\u001b[0;34m.\u001b[0m\u001b[0msum\u001b[0m\u001b[0;34m(\u001b[0m\u001b[0;34m)\u001b[0m\u001b[0;34m)\u001b[0m\u001b[0;34m\u001b[0m\u001b[0;34m\u001b[0m\u001b[0m\n\u001b[0m\u001b[1;32m     18\u001b[0m \u001b[0;34m\u001b[0m\u001b[0m\n\u001b[1;32m     19\u001b[0m \u001b[0mmy_dice_cup\u001b[0m \u001b[0;34m=\u001b[0m \u001b[0mdice_cup\u001b[0m\u001b[0;34m(\u001b[0m\u001b[0;36m4\u001b[0m\u001b[0;34m)\u001b[0m\u001b[0;34m\u001b[0m\u001b[0;34m\u001b[0m\u001b[0m\n",
      "\u001b[0;31mNameError\u001b[0m: name 'self' is not defined"
     ]
    }
   ],
   "source": [
    "class dice_cup:\n",
    "    \n",
    "    def __init__(self,ndice):\n",
    "        self.ndice = ndice\n",
    "    \n",
    "    def roll(self):\n",
    "        self.dice = np.random.randint(1,7,size=self.ndice)\n",
    "        print(self.dice)\n",
    "        \n",
    "    def shuffle(self): #create a new random permutations of self.dice\n",
    "        np.random.shuffle(self.dice)\n",
    "        print(self.dice)\n",
    "        \n",
    "    def roll_and_sum(self):\n",
    "        self.roll() \n",
    "        self.dice.sum() # this can be done since self.dice is a np.array, an they have the .sum function in them \n",
    "    print(self.dice.sum())\n",
    "        \n",
    "my_dice_cup = dice_cup(4)\n",
    "my_dice_cup.roll() #rooling the dice, and create an array with 4 elements \n",
    "my_dice_cup.shuffle()\n",
    "my_dice_cup.roll_and_sum()"
   ]
  },
  {
   "cell_type": "markdown",
   "metadata": {},
   "source": [
    "**Task:** Add a method ``roll_and_sum()`` to the class above, which rolls and print the sum of the dice. Compare the value of your roll to your neighbor."
   ]
  },
  {
   "cell_type": "markdown",
   "metadata": {},
   "source": [
    "# Demand"
   ]
  },
  {
   "cell_type": "markdown",
   "metadata": {},
   "source": [
    "$$ \n",
    "x_1(p_1,p_2) = \\sum_{j=1}^N x_{1}^{\\star j}(p_{1},p_{2},e^{j}) = \\alpha_{j}\\frac{kp_{1}+p_{2}}{p_{1}}\n",
    "$$"
   ]
  },
  {
   "cell_type": "markdown",
   "metadata": {},
   "source": [
    "Find demand distribution and total demand:"
   ]
  },
  {
   "cell_type": "code",
   "execution_count": 19,
   "metadata": {},
   "outputs": [],
   "source": [
    "def find_demand_good_1(alphas,p1,p2,k): \n",
    "    dist = demand_good_1_func(alphas,p1,p2,k) #destribution of demand for good 1 \n",
    "    total = dist.sum()\n",
    "    return dist,total\n",
    "#only need a function for good 1 because of walras law "
   ]
  },
  {
   "cell_type": "markdown",
   "metadata": {},
   "source": [
    "Calculate for various prices:"
   ]
  },
  {
   "cell_type": "code",
   "execution_count": 20,
   "metadata": {},
   "outputs": [],
   "source": [
    "# a. draw alphas\n",
    "alphas = np.random.uniform(low=mu_low,high=mu_high,size=N)\n",
    "\n",
    "# b. prices\n",
    "p1_vec = [0.5,1,2,5]\n",
    "p2 = 1 #p2 is nomalized \n",
    "\n",
    "# c. demand\n",
    "dists = np.empty((len(p1_vec),N))\n",
    "totals = np.empty(len(p1_vec))\n",
    "for i,p1 in enumerate(p1_vec):\n",
    "    dist,total = find_demand_good_1(alphas,p1,p2,k)\n",
    "    dists[i,:] = dist\n",
    "    totals[i] = total"
   ]
  },
  {
   "cell_type": "markdown",
   "metadata": {},
   "source": [
    "Plot the results:"
   ]
  },
  {
   "cell_type": "code",
   "execution_count": 16,
   "metadata": {},
   "outputs": [
    {
     "data": {
      "text/plain": [
       "[<matplotlib.lines.Line2D at 0x1bfc489c5b0>]"
      ]
     },
     "execution_count": 16,
     "metadata": {},
     "output_type": "execute_result"
    },
    {
     "data": {
      "image/png": "[encoded data removed]",
      "text/plain": [
       "<Figure size 720x288 with 2 Axes>"
      ]
     },
     "metadata": {},
     "output_type": "display_data"
    }
   ],
   "source": [
    "fig = plt.figure(figsize=(10,4))\n",
    "\n",
    "ax_left = fig.add_subplot(1,2,1)\n",
    "ax_left.set_title('Distributions of demand')\n",
    "for i,p1 in enumerate(p1_vec):\n",
    "    ax_left.hist(dists[i],density=True,alpha=0.5,label=f'$p_1 = {p1}$')\n",
    "ax_left.legend(loc='upper right')\n",
    "\n",
    "ax_right = fig.add_subplot(1,2,2)\n",
    "ax_right.set_title('Level of demand')\n",
    "ax_right.grid(True)\n",
    "ax_right.plot(p1_vec,totals)"
   ]
  },
  {
   "cell_type": "markdown",
   "metadata": {},
   "source": [
    "# Interactive figures"
   ]
  },
  {
   "cell_type": "markdown",
   "metadata": {},
   "source": [
    "Create a function constructing a figure:"
   ]
  },
  {
   "cell_type": "code",
   "execution_count": 21,
   "metadata": {},
   "outputs": [],
   "source": [
    "def interactive_figure(alphas,p1,p2,k):\n",
    "    \n",
    "    # a. calculations\n",
    "    dist,_total = find_demand_good_1(alphas,p1,p2,k)\n",
    "    \n",
    "    # b. figure\n",
    "    fig = plt.figure(dpi=100)\n",
    "    ax = fig.add_subplot(1,1,1)\n",
    "    ax.hist(dist,density=True)\n",
    "    ax.set_xlim([0,4]) # fixed x range\n",
    "    ax.set_ylim([0,0.8]) # fixed y range"
   ]
  },
  {
   "cell_type": "markdown",
   "metadata": {},
   "source": [
    "**Case 1:** Make it interactive with a **slider**"
   ]
  },
  {
   "cell_type": "code",
   "execution_count": 22,
   "metadata": {},
   "outputs": [
    {
     "data": {
      "application/vnd.jupyter.widget-view+json": {
       "model_id": "73f2650786344c04aa420aa0be5d6ade",
       "version_major": 2,
       "version_minor": 0
      },
      "text/plain": [
       "interactive(children=(FloatSlider(value=2.0, description='$p_1$', max=5.0, min=0.1, step=0.05), Output()), _do…"
      ]
     },
     "metadata": {},
     "output_type": "display_data"
    }
   ],
   "source": [
    "widgets.interact(interactive_figure,\n",
    "    alphas=widgets.fixed(alphas),\n",
    "    p1=widgets.FloatSlider(description=\"$p_1$\", min=0.1, max=5, step=0.05, value=2),\n",
    "    p2=widgets.fixed(p2),\n",
    "    k=widgets.fixed(k)\n",
    ");"
   ]
  },
  {
   "cell_type": "markdown",
   "metadata": {},
   "source": [
    "**Case 2:** Make it interactive with a **textbox**:"
   ]
  },
  {
   "cell_type": "code",
   "execution_count": 23,
   "metadata": {},
   "outputs": [
    {
     "data": {
      "application/vnd.jupyter.widget-view+json": {
       "model_id": "34cf4a3802fb492a90f353c478497298",
       "version_major": 2,
       "version_minor": 0
      },
      "text/plain": [
       "interactive(children=(FloatText(value=2.0, description='$p_1$'), Output()), _dom_classes=('widget-interact',))"
      ]
     },
     "metadata": {},
     "output_type": "display_data"
    }
   ],
   "source": [
    "widgets.interact(interactive_figure,\n",
    "    alphas=widgets.fixed(alphas),\n",
    "    p1=widgets.FloatText(description=\"$p_1$\", value=2),\n",
    "    p2=widgets.fixed(p2),\n",
    "    k=widgets.fixed(k)\n",
    ");"
   ]
  },
  {
   "cell_type": "markdown",
   "metadata": {},
   "source": [
    "**Case 3:** Make it interactive with a **dropdown menu**"
   ]
  },
  {
   "cell_type": "code",
   "execution_count": 24,
   "metadata": {},
   "outputs": [
    {
     "data": {
      "application/vnd.jupyter.widget-view+json": {
       "model_id": "b0c5940a8d724e3c93afdbe58cb3b668",
       "version_major": 2,
       "version_minor": 0
      },
      "text/plain": [
       "interactive(children=(Dropdown(description='$p_1$', index=3, options=(0.5, 1, 1.5, 2.0, 2.5, 3), value=2.0), O…"
      ]
     },
     "metadata": {},
     "output_type": "display_data"
    }
   ],
   "source": [
    "widgets.interact(interactive_figure,\n",
    "    alphas=widgets.fixed(alphas),\n",
    "    p1=widgets.Dropdown(description=\"$p_1$\", options=[0.5,1,1.5,2.0,2.5,3], value=2),\n",
    "    p2=widgets.fixed(p2),\n",
    "    k=widgets.fixed(k)\n",
    ");"
   ]
  },
  {
   "cell_type": "markdown",
   "metadata": {},
   "source": [
    "**Tasl:** Add a slider for \\\\(k\\\\) to the interactive figure below."
   ]
  },
  {
   "cell_type": "code",
   "execution_count": 21,
   "metadata": {},
   "outputs": [
    {
     "data": {
      "application/vnd.jupyter.widget-view+json": {
       "model_id": "2b12d5781bef4bc696414450889393e5",
       "version_major": 2,
       "version_minor": 0
      },
      "text/plain": [
       "interactive(children=(FloatSlider(value=2.0, description='$p_1$', max=5.0, min=0.1, step=0.05), Output()), _do…"
      ]
     },
     "metadata": {},
     "output_type": "display_data"
    }
   ],
   "source": [
    "# change this code\n",
    "widgets.interact(interactive_figure,\n",
    "    alphas=widgets.fixed(alphas),\n",
    "    p1=widgets.FloatSlider(description=\"$p_1$\", min=0.1, max=5, step=0.05, value=2),\n",
    "    p2=widgets.fixed(p2),\n",
    "    k=widgets.fixed(k)\n",
    ");"
   ]
  },
  {
   "cell_type": "markdown",
   "metadata": {},
   "source": [
    "# Equilibrium"
   ]
  },
  {
   "cell_type": "markdown",
   "metadata": {},
   "source": [
    "The equilibrium conditions (demand = supply) were:\n",
    "\n",
    "$$\n",
    "\\begin{aligned}\n",
    "\\sum_{j=1}^N x_{1}^{\\star j}(p_{1},p_{2},e^{j}) &= Nk \\Leftrightarrow Z_1 \\equiv \\sum_{j=1}^N x_{1}^{\\star j}(p_{1},p_{2},e^{j}) - Nk = 0 \\\\\n",
    "\\sum_{j=1}^N x_{2}^{\\star j}(p_{1},p_{2},e^{j}) &= N \\Leftrightarrow Z_2 \\equiv \\sum_{j=1}^N x_{2}^{\\star j}(p_{1},p_{2},e^{j}) - N = 0\n",
    "\\end{aligned}\n",
    "$$"
   ]
  },
  {
   "cell_type": "markdown",
   "metadata": {},
   "source": [
    "**Idea:** Solve the first equation. The second is then satisfied due to Walras's law."
   ]
  },
  {
   "cell_type": "markdown",
   "metadata": {},
   "source": [
    "**Excess demand functions:**"
   ]
  },
  {
   "cell_type": "code",
   "execution_count": 25,
   "metadata": {},
   "outputs": [],
   "source": [
    "def excess_demand_good_1_func(alphas,p1,p2,k):\n",
    "    \n",
    "    # a. demand\n",
    "    demand = np.sum(demand_good_1_func(alphas,p1,p2,k))\n",
    "    \n",
    "    # b. supply, define total supply \n",
    "    supply = k*alphas.size\n",
    "    \n",
    "    # c. excess demand, difference b/w demand and labor supply\n",
    "    excess_demand = demand-supply\n",
    "    \n",
    "    return excess_demand\n",
    "\n",
    "def excess_demand_good_2_func(alphas,p1,p2,k):\n",
    "    \n",
    "    # a. demand\n",
    "    demand = np.sum(demand_good_2_func(alphas,p1,p2,k))\n",
    "    \n",
    "    # b. supply\n",
    "    supply = alphas.size\n",
    "    \n",
    "    # c. excess demand\n",
    "    excess_demand = demand-supply\n",
    "    \n",
    "    return excess_demand"
   ]
  },
  {
   "cell_type": "markdown",
   "metadata": {},
   "source": [
    "**Algorithm:** Choose a tolerance $\\epsilon > 0$ and an adjustment factor $\\kappa$, and guess on $p_1 > 0$. \n",
    "\n",
    "#create an algoritme in order to set demand equal to supply. #it wont every be ever be excatly 0\n",
    "\n",
    "Find the equilibrium price by:\n",
    "\n",
    "1. Calculate excess demand $Z_1 = \\sum_{j=1}^N x_{1}^{\\star j}(p_{1},p_{2},e^{j}) - Nk$\n",
    "2. If $|Z_1| < \\epsilon $ stop\n",
    "3. If $|Z_1| \\geq \\epsilon $ set $p_1 = p_1 + \\kappa \\cdot \\frac{Z_1}{N}$ \n",
    "4. Return to step 1\n",
    "\n",
    "#that is, if excess demand is positiv and far form 0,  then increase prices and if excess demand is negative and far from 0, decrese prices. "
   ]
  },
  {
   "cell_type": "code",
   "execution_count": 26,
   "metadata": {},
   "outputs": [],
   "source": [
    "def find_equilibrium(alphas,p1,p2,k,kappa=0.5,eps=1e-8,maxiter=500):\n",
    "    \n",
    "    t = 0\n",
    "    while True: #while loop since we are not quite sure when we are done \n",
    "\n",
    "        # a. step 1: excess demand\n",
    "        Z1 = excess_demand_good_1_func(alphas,p1,p2,k)\n",
    "        \n",
    "        # b: step 2: stop?\n",
    "        if  np.abs(Z1) < eps or t >= maxiter:\n",
    "            print(f'{t:3d}: p1 = {p1:12.8f} -> excess demand -> {Z1:14.8f}')\n",
    "            break    \n",
    "    \n",
    "        # c. step 3: update p1\n",
    "        p1 = p1 + kappa*Z1/alphas.size\n",
    "            \n",
    "        # d. step 4: return only 25th iteration using the modulus operator\n",
    "        if t < 5 or t%25 == 0:\n",
    "            print(f'{t:3d}: p1 = {p1:12.8f} -> excess demand -> {Z1:14.8f}')\n",
    "        elif t == 5:\n",
    "            print('   ...')\n",
    "            \n",
    "        t += 1    \n",
    "\n",
    "    return p1"
   ]
  },
  {
   "cell_type": "markdown",
   "metadata": {},
   "source": [
    "Find the equilibrium price:"
   ]
  },
  {
   "cell_type": "code",
   "execution_count": 27,
   "metadata": {},
   "outputs": [
    {
     "name": "stdout",
     "output_type": "stream",
     "text": [
      "  0: p1 =   1.33875734 -> excess demand ->  -612.42655375\n",
      "  1: p1 =   1.27918510 -> excess demand ->  -595.72239804\n",
      "  2: p1 =   1.22139118 -> excess demand ->  -577.93923180\n",
      "  3: p1 =   1.16548827 -> excess demand ->  -559.02910584\n",
      "  4: p1 =   1.11159294 -> excess demand ->  -538.95333860\n",
      "   ...\n",
      " 25: p1 =   0.55008835 -> excess demand ->   -57.93775512\n",
      " 50: p1 =   0.52310065 -> excess demand ->    -0.37645507\n",
      " 75: p1 =   0.52293777 -> excess demand ->    -0.00213379\n",
      "100: p1 =   0.52293685 -> excess demand ->    -0.00001208\n",
      "125: p1 =   0.52293684 -> excess demand ->    -0.00000007\n",
      "135: p1 =   0.52293684 -> excess demand ->    -0.00000001\n"
     ]
    }
   ],
   "source": [
    "p1 = 1.4\n",
    "p2 = 1\n",
    "kappa = 0.1\n",
    "eps = 1e-8\n",
    "p1 = find_equilibrium(alphas,p1,p2,k,kappa=kappa,eps=eps)"
   ]
  },
  {
   "cell_type": "markdown",
   "metadata": {},
   "source": [
    "**Check:** Ensure that excess demand of both goods are (almost) zero."
   ]
  },
  {
   "cell_type": "code",
   "execution_count": 25,
   "metadata": {},
   "outputs": [
    {
     "name": "stdout",
     "output_type": "stream",
     "text": [
      "-8.651113603264093e-09 4.363300831755623e-09\n"
     ]
    }
   ],
   "source": [
    "Z1 = excess_demand_good_1_func(alphas,p1,p2,k)\n",
    "Z2 = excess_demand_good_2_func(alphas,p1,p2,k)\n",
    "print(Z1,Z2)\n",
    "assert np.abs(Z1) < eps\n",
    "assert np.abs(Z2) < eps"
   ]
  },
  {
   "cell_type": "markdown",
   "metadata": {},
   "source": [
    "# Numerical integration by Monte Carlo"
   ]
  },
  {
   "cell_type": "markdown",
   "metadata": {},
   "source": [
    "Numerical integration is the task of computing\n",
    "\n",
    "$$ \n",
    "\\mathbb{E}[g(x)]  \\text{ where } x \\sim F\n",
    "$$\n",
    "\n",
    "and $F$ is a known probability distribution and $g$ is a function. \n",
    "\n",
    "Relying on the law of large numbers we approximate this integral with\n",
    "\n",
    "$$\n",
    "\\mathbb{E}[g(x)] \\approx \\frac{1}{N}\\sum_{i=1}^{N} g(x_i) \n",
    "$$\n",
    "\n",
    "where $x_i$ is drawn from $F$ using a random number generator. This is also called **numerical integration by Monte Carlo**."
   ]
  },
  {
   "cell_type": "markdown",
   "metadata": {},
   "source": [
    "**Monte Carlo function:**"
   ]
  },
  {
   "cell_type": "code",
   "execution_count": 26,
   "metadata": {},
   "outputs": [],
   "source": [
    "def g(x):\n",
    "    return (x-1)**2\n",
    "\n",
    "def MC(N,g,F): #(= the number og draws, the function g, the object)\n",
    "    X = F.rvs(size=N) # rvs = draw N random values from F\n",
    "    return np.mean(g(X))"
   ]
  },
  {
   "cell_type": "markdown",
   "metadata": {},
   "source": [
    "**Example** with a normal distribution:"
   ]
  },
  {
   "cell_type": "code",
   "execution_count": 27,
   "metadata": {},
   "outputs": [
    {
     "name": "stdout",
     "output_type": "stream",
     "text": [
      "1.0515044516694336\n"
     ]
    }
   ],
   "source": [
    "N = 1000\n",
    "mu = 0.1\n",
    "sigma = 0.5\n",
    "F = norm(loc=mu,scale=sigma)\n",
    "print(MC(N,g,F))"
   ]
  },
  {
   "cell_type": "markdown",
   "metadata": {},
   "source": [
    "Function for drawning \\\\( K \\\\) Monte Carlo samples:"
   ]
  },
  {
   "cell_type": "code",
   "execution_count": 28,
   "metadata": {},
   "outputs": [],
   "source": [
    "def MC_sample(N,g,F,K):\n",
    "    \n",
    "    results = np.empty(K)\n",
    "    for i in range(K):\n",
    "        results[i] = MC(N,g,F)\n",
    "\n",
    "    return results"
   ]
  },
  {
   "cell_type": "markdown",
   "metadata": {},
   "source": [
    "The variance across Monte Carlo samples falls with larger $N$:"
   ]
  },
  {
   "cell_type": "code",
   "execution_count": 29,
   "metadata": {},
   "outputs": [
    {
     "name": "stdout",
     "output_type": "stream",
     "text": [
      "N =      100: 1.065459 (std: 0.0975)\n",
      "N =     1000: 1.059927 (std: 0.0302)\n",
      "N =    10000: 1.060138 (std: 0.0101)\n",
      "N =   100000: 1.060118 (std: 0.0030)\n"
     ]
    }
   ],
   "source": [
    "K = 1000\n",
    "for N in [10**2,10**3,10**4,10**5]:\n",
    "    results = MC_sample(N,g,F,K)\n",
    "    print(f'N = {N:8d}: {results.mean():.6f} (std: {results.std():.4f})')"
   ]
  },
  {
   "cell_type": "markdown",
   "metadata": {},
   "source": [
    "## Advanced: Gauss-Hermite quadrature"
   ]
  },
  {
   "cell_type": "markdown",
   "metadata": {},
   "source": [
    "**Problem:** Numerical integration by Monte Carlo is **slow**.\n",
    "\n",
    "**Solution:** Use smarter integration formulas on the form\n",
    "\n",
    "$$\n",
    "\\mathbb{E}[g(x)] \\approx \\sum_{i=1}^{n} w_ig(x_i) \n",
    "$$\n",
    "\n",
    "where $(x_i,w_i), \\forall n \\in \\{1,2,\\dots,N\\}$, are called **quadrature nodes and weights** and are provided by some theoretical formula depending on the distribution of $x$.\n",
    "\n",
    "**Example I, Normal:** If $x \\sim \\mathcal{N}(\\mu,\\sigma)$ then we can use [Gauss-Hermite quadrature](https://en.wikipedia.org/wiki/Gauss%E2%80%93Hermite_quadrature) as implemented below."
   ]
  },
  {
   "cell_type": "code",
   "execution_count": 28,
   "metadata": {},
   "outputs": [],
   "source": [
    "def gauss_hermite(n):\n",
    "    \"\"\" gauss-hermite nodes\n",
    "\n",
    "    Args:\n",
    "\n",
    "        n (int): number of points\n",
    "\n",
    "    Returns:\n",
    "\n",
    "        x (numpy.ndarray): nodes of length n\n",
    "        w (numpy.ndarray): weights of length n\n",
    "\n",
    "    \"\"\"\n",
    "    #three \" will let you give your function your own text. jupyter will then let you see this text when you write the code and place the mouse above it\n",
    "\n",
    "    # a. calculations\n",
    "    i = np.arange(1,n)\n",
    "    a = np.sqrt(i/2)\n",
    "    CM = np.diag(a,1) + np.diag(a,-1)\n",
    "    L,V = np.linalg.eig(CM)\n",
    "    I = L.argsort()\n",
    "    V = V[:,I].T\n",
    "\n",
    "    # b. nodes and weights\n",
    "    x = L[I]\n",
    "    w = np.sqrt(math.pi)*V[:,0]**2\n",
    "\n",
    "    return x,w\n"
   ]
  },
  {
   "cell_type": "code",
   "execution_count": 29,
   "metadata": {},
   "outputs": [],
   "source": [
    "def normal_gauss_hermite(sigma, n=7, mu=None, exp=False):\n",
    "    \"\"\" normal gauss-hermite nodes\n",
    "\n",
    "    Args:\n",
    "\n",
    "        sigma (double): standard deviation\n",
    "        n (int): number of points\n",
    "        mu (double,optinal): mean\n",
    "        exp (bool,optinal): take exp and correct mean (if not specified)\n",
    "\n",
    "    Returns:\n",
    "\n",
    "        x (numpy.ndarray): nodes of length n\n",
    "        w (numpy.ndarray): weights of length n\n",
    "\n",
    "    \"\"\"\n",
    "\n",
    "    if sigma == 0.0 or n == 1:\n",
    "        x = np.ones(n)\n",
    "        if mu is not None:\n",
    "            x += mu\n",
    "        w = np.ones(n)\n",
    "        return x,w\n",
    "\n",
    "    # a. GaussHermite\n",
    "    x,w = gauss_hermite(n)\n",
    "    x *= np.sqrt(2)*sigma \n",
    "\n",
    "    # b. log-normality\n",
    "    if exp:\n",
    "        if mu is None:\n",
    "            x = np.exp(x - 0.5*sigma**2)\n",
    "        else:\n",
    "            x = np.exp(x + mu)\n",
    "    else:\n",
    "        if mu is None:\n",
    "            x = x \n",
    "        else:\n",
    "            x = x + mu\n",
    "\n",
    "    w /= np.sqrt(math.pi)\n",
    "\n",
    "    return x,w\n",
    "\n"
   ]
  },
  {
   "cell_type": "markdown",
   "metadata": {},
   "source": [
    "**Results:** Becuase the function is \"nice\", very few quadrature points are actually needed (*not generally true*)."
   ]
  },
  {
   "cell_type": "code",
   "execution_count": 32,
   "metadata": {},
   "outputs": [
    {
     "name": "stdout",
     "output_type": "stream",
     "text": [
      "n =   1: 0.010000\n",
      "n =   2: 1.060000\n",
      "n =   3: 1.060000\n",
      "n =   5: 1.060000\n",
      "n =   7: 1.060000\n",
      "n =   9: 1.060000\n",
      "n =  11: 1.060000\n"
     ]
    }
   ],
   "source": [
    "for n in [1,2,3,5,7,9,11]:\n",
    "    x,w = normal_gauss_hermite(mu=mu,sigma=sigma,n=n)\n",
    "    result = np.sum(w*g(x))\n",
    "    print(f'n = {n:3d}: {result:.6f}')"
   ]
  },
  {
   "cell_type": "markdown",
   "metadata": {},
   "source": [
    "**Example II, log-normal ([more info](https://en.wikipedia.org/wiki/Log-normal_distribution)):** \n",
    "\n",
    "1. Let $\\log x \\sim \\mathcal{N}(\\mu,\\sigma)$. \n",
    "2. Gauss-Hermite quadrature nodes and weights can be used with the option `exp=True`. \n",
    "3. To ensure $\\mathbb{E}[x] = 1$ then $\\mu = -0.5\\sigma^2$."
   ]
  },
  {
   "cell_type": "code",
   "execution_count": 33,
   "metadata": {},
   "outputs": [
    {
     "name": "stdout",
     "output_type": "stream",
     "text": [
      "mean(x) when mu = 0\n",
      "MC: 1.1336\n",
      "Gauss-Hermite: 1.1331\n",
      "\n",
      "mean(x), mu = -0.5*sigma^2\n",
      "MC: 1.0086\n",
      "Gauss-Hermite: 1.0000\n"
     ]
    }
   ],
   "source": [
    "z = np.random.normal(size=1_000_000,scale=sigma)\n",
    "\n",
    "print('mean(x) when mu = 0')\n",
    "x,w = normal_gauss_hermite(mu=0,sigma=sigma,n=7,exp=True)\n",
    "print(f'MC: {np.mean(np.exp(z)):.4f}')\n",
    "print(f'Gauss-Hermite: {np.sum(x*w):.4f}')\n",
    "print('')\n",
    "\n",
    "print('mean(x), mu = -0.5*sigma^2')\n",
    "x,w = normal_gauss_hermite(sigma=sigma,n=7,exp=True)\n",
    "print(f'MC: {np.mean(np.exp(z)-0.5*sigma**2):.4f}')\n",
    "print(f'Gauss-Hermite: {np.sum(x*w):.4f}')"
   ]
  },
  {
   "cell_type": "markdown",
   "metadata": {},
   "source": [
    "# Load and save"
   ]
  },
  {
   "cell_type": "markdown",
   "metadata": {},
   "source": [
    "## Pickle"
   ]
  },
  {
   "cell_type": "markdown",
   "metadata": {},
   "source": [
    "A good allround method for loading and saving is to use **pickle**. Here is how to save:"
   ]
  },
  {
   "cell_type": "code",
   "execution_count": 34,
   "metadata": {},
   "outputs": [],
   "source": [
    "# a. variables\n",
    "my_dict = {'a':1,'b':2}\n",
    "my_vec = np.array([1,2,3])\n",
    "my_tupple = (1,4,2)\n",
    "\n",
    "# b. put them in a dictionary\n",
    "my_data = {}\n",
    "my_data['my_dict'] = my_dict\n",
    "my_data['my_vec'] = my_vec\n",
    "my_data['my_tupple'] = my_tupple\n",
    "\n",
    "# c. save the dictionary in a file\n",
    "with open(f'data.p', 'wb') as f: # wb = write binary\n",
    "    pickle.dump(my_data, f)"
   ]
  },
  {
   "cell_type": "markdown",
   "metadata": {},
   "source": [
    "Delete the variables:"
   ]
  },
  {
   "cell_type": "code",
   "execution_count": 35,
   "metadata": {},
   "outputs": [],
   "source": [
    "del my_dict\n",
    "del my_vec\n",
    "del my_tupple"
   ]
  },
  {
   "cell_type": "markdown",
   "metadata": {},
   "source": [
    "Load the data again:"
   ]
  },
  {
   "cell_type": "code",
   "execution_count": 36,
   "metadata": {},
   "outputs": [
    {
     "name": "stdout",
     "output_type": "stream",
     "text": [
      "my_vec does not exist\n",
      "[1 2 3]\n",
      "(1, 4, 2)\n"
     ]
    }
   ],
   "source": [
    "# a. try\n",
    "try:\n",
    "    print(my_tupple)\n",
    "except:\n",
    "    print('my_vec does not exist')\n",
    "    \n",
    "# b. load    \n",
    "with open(f'data.p', 'rb') as f: # rb = read binary\n",
    "    data = pickle.load(f)\n",
    "    my_dict = data['my_dict']\n",
    "    my_vec = data['my_vec']\n",
    "    my_tupple = data['my_tupple']\n",
    "    \n",
    "# c. try again\n",
    "print(my_vec)\n",
    "print(my_tupple)"
   ]
  },
  {
   "cell_type": "markdown",
   "metadata": {},
   "source": [
    "## Saving with numpy"
   ]
  },
  {
   "cell_type": "markdown",
   "metadata": {},
   "source": [
    "When only saving/loading **numpy arrays**, an alternative is to use ``np.savez`` (or ``np.savez_compressed``). This is typically faster than pickle."
   ]
  },
  {
   "cell_type": "markdown",
   "metadata": {},
   "source": [
    "Here is how to save some data:"
   ]
  },
  {
   "cell_type": "code",
   "execution_count": 37,
   "metadata": {},
   "outputs": [],
   "source": [
    "my_data = {}\n",
    "my_data['A'] = np.array([1,2,3])\n",
    "my_data['B'] = np.zeros((5,8))\n",
    "my_data['C'] = np.ones((7,3,8))\n",
    "np.savez(f'data.npz', **my_data)\n",
    "# '**' unpacks the dictionary"
   ]
  },
  {
   "cell_type": "markdown",
   "metadata": {},
   "source": [
    "Here is how to load the data again:"
   ]
  },
  {
   "cell_type": "code",
   "execution_count": 38,
   "metadata": {},
   "outputs": [
    {
     "name": "stdout",
     "output_type": "stream",
     "text": [
      "[1 2 3]\n",
      "[1 2 3]\n"
     ]
    }
   ],
   "source": [
    "# a. delete\n",
    "del my_data\n",
    "\n",
    "# a. load all\n",
    "my_data = {}\n",
    "with np.load(f'data.npz') as data:\n",
    "    for key in data.files:\n",
    "        my_data[key] = data[key]\n",
    "print(my_data['A'])\n",
    "\n",
    "# b. load single array\n",
    "X = np.load(f'data.npz')['A']\n",
    "print(X)"
   ]
  },
  {
   "cell_type": "markdown",
   "metadata": {},
   "source": [
    "# Summary"
   ]
  },
  {
   "cell_type": "markdown",
   "metadata": {},
   "source": [
    "**This lecture:** We have talked about:\n",
    "\n",
    "1. numpy.random: Drawing (pseudo-)random numbers (seed, state, distributions)\n",
    "2. scipy.stats: Using analytical random distributions (ppf, pdf, cdf, rvs)\n",
    "3. ipywidgets: Making interactive figures\n",
    "4. pickle and np.savez: Saving and loading data"
   ]
  },
  {
   "cell_type": "markdown",
   "metadata": {},
   "source": [
    "The method you learned for finding the equilibrium can be used in a lot of models. For example, a simple method can be applied with multiple goods."
   ]
  },
  {
   "cell_type": "markdown",
   "metadata": {},
   "source": [
    "**Your work:** Before solving Problem Set 2 read through this notebook and play around with the code."
   ]
  },
  {
   "cell_type": "markdown",
   "metadata": {},
   "source": [
    "**Next lecture:** Workflow and debugging. Go through these guides beforehand:\n",
    "\n",
    "1. [Installing Python and VSCode](https://numeconcopenhagen.netlify.com//guides/python-setup)\n",
    "2. [Running Python in JupyterLab](https://numeconcopenhagen.netlify.com//guides/jupyterlab)\n",
    "3. [Running Python in VSCode](https://numeconcopenhagen.netlify.com//guides/vscode-basics)"
   ]
  },
  {
   "cell_type": "markdown",
   "metadata": {},
   "source": [
    "You must have installed **git** and have a **GitHub account!** (step 2 in [Installing Python and VSCode](https://numeconcopenhagen.netlify.com//guides/python-setup))."
   ]
  },
  {
   "cell_type": "markdown",
   "metadata": {},
   "source": [
    "**Finally:** You can begin to think about who you want to work together with for the group assignments. We will talk more about inaugural project next-time."
   ]
  }
 ],
 "metadata": {
  "kernelspec": {
   "display_name": "Python 3",
   "language": "python",
   "name": "python3"
  },
  "language_info": {
   "codemirror_mode": {
    "name": "ipython",
    "version": 3
   },
   "file_extension": ".py",
   "mimetype": "text/x-python",
   "name": "python",
   "nbconvert_exporter": "python",
   "pygments_lexer": "ipython3",
   "version": "3.8.5"
  },
  "toc-autonumbering": true
 },
 "nbformat": 4,
 "nbformat_minor": 4
}
